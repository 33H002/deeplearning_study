{
 "cells": [
  {
   "cell_type": "code",
   "execution_count": 1,
   "id": "f90000ab",
   "metadata": {},
   "outputs": [],
   "source": [
    "import warnings\n",
    "warnings.filterwarnings('ignore')\n",
    "\n",
    "import gc\n",
    "import timm\n",
    "import wandb\n",
    "import random\n",
    "import numpy as np\n",
    "\n",
    "import torch\n",
    "import torch.nn as nn\n",
    "import torch.backends.cudnn as cudnn\n",
    "from torch.utils.data import DataLoader \n",
    "from torch.cuda.amp import autocast, GradScaler\n",
    "from torchvision.datasets import ImageFolder\n",
    "\n",
    "from multiprocessing import cpu_count\n",
    "from sklearn.model_selection import train_test_split\n",
    "\n",
    "from utils.utils import ImageLoader, TransformsCE\n",
    "\n",
    "\n",
    "def seed_everything(seed):\n",
    "    torch.manual_seed(seed)\n",
    "    torch.cuda.manual_seed(seed)\n",
    "    torch.cuda.manual_seed_all(seed)\n",
    "    np.random.seed(seed)\n",
    "    cudnn.benchmark = False\n",
    "    cudnn.deterministic = True\n",
    "    random.seed(seed)"
   ]
  },
  {
   "cell_type": "markdown",
   "id": "9123319d",
   "metadata": {},
   "source": [
    "#### Set Params"
   ]
  },
  {
   "cell_type": "code",
   "execution_count": 2,
   "id": "c736849e-704f-448d-ba5a-5b167e4afbad",
   "metadata": {},
   "outputs": [],
   "source": [
    "SEED = 333\n",
    "seed_everything(SEED)\n",
    "\n",
    "IMG_SIZE = (224, 224)\n",
    "NUM_CLASSES = 2\n",
    "BATCH_SIZE = 8\n",
    "LEARNING_RATE = 1e-4\n",
    "EPOCHS = 10\n",
    "\n",
    "RUN_NAME = 'mobilenetv3_small_050'\n",
    "WANDB_PRJ = 'public'\n",
    "\n",
    "WANDB_CONFIG = {\n",
    "    'seed': SEED,\n",
    "    'model': RUN_NAME,\n",
    "    'batch_size': BATCH_SIZE,\n",
    "    'learning_rate': LEARNING_RATE,  \n",
    "}"
   ]
  },
  {
   "cell_type": "markdown",
   "id": "972f5039",
   "metadata": {},
   "source": [
    "#### Load Dataset and Make Loader"
   ]
  },
  {
   "cell_type": "code",
   "execution_count": 3,
   "id": "74ec9fd1-a8e6-4532-a312-fb55cea3360c",
   "metadata": {},
   "outputs": [],
   "source": [
    "dataset = ImageFolder(\"./sample_datasets/cat-and-dog/training_set/training_set/\")\n",
    "trn_data, val_data, trn_label, val_label = train_test_split(dataset.imgs, dataset.targets, test_size=0.2, random_state=SEED)\n",
    "\n",
    "trn_ds, val_ds = list(map(lambda x, y: ImageLoader(dataset=x, phase=y, transform=TransformsCE(IMG_SIZE)), \n",
    "                          [trn_data, val_data], ['train', 'valid']))\n",
    "trn_dl, val_dl = list(map(lambda x, y: DataLoader(x, batch_size=BATCH_SIZE, num_workers=cpu_count(), shuffle=y, drop_last=True), \n",
    "                          [trn_ds, val_ds], [True, False]))\n",
    "\n",
    "img_datasets = {'train' : trn_ds, 'valid': val_ds}\n",
    "dataloaders = {'train': trn_dl, 'valid': val_dl}\n",
    "\n",
    "dataset_sizes = {x: len(img_datasets[x]) for x in ['train', 'valid']}"
   ]
  },
  {
   "cell_type": "markdown",
   "id": "c8ac7af3",
   "metadata": {},
   "source": [
    "#### Prepare Model"
   ]
  },
  {
   "cell_type": "code",
   "execution_count": 4,
   "id": "d30b6683-0b0e-4a8a-a6cb-c5938056cd0c",
   "metadata": {},
   "outputs": [],
   "source": [
    "model = timm.create_model(RUN_NAME, pretrained=True, num_classes=NUM_CLASSES) # initialize with pretrained weights\n",
    "optimizer = torch.optim.AdamW(model.parameters(), lr=LEARNING_RATE, weight_decay=1e-5)\n",
    "scheduler = torch.optim.lr_scheduler.CosineAnnealingLR(optimizer, T_max=50, eta_min=0, last_epoch=-1, verbose=False)\n",
    "criterion = nn.CrossEntropyLoss()\n",
    "scaler = GradScaler()"
   ]
  },
  {
   "cell_type": "markdown",
   "id": "28e9bbcd",
   "metadata": {},
   "source": [
    "#### Training"
   ]
  },
  {
   "cell_type": "code",
   "execution_count": 5,
   "id": "03fc918c-94e7-4e78-803c-3b02069103f5",
   "metadata": {
    "tags": []
   },
   "outputs": [
    {
     "name": "stderr",
     "output_type": "stream",
     "text": [
      "\u001b[34m\u001b[1mwandb\u001b[0m: Currently logged in as: \u001b[33m33h002\u001b[0m. Use \u001b[1m`wandb login --relogin`\u001b[0m to force relogin\n"
     ]
    },
    {
     "data": {
      "text/html": [
       "Tracking run with wandb version 0.14.0"
      ],
      "text/plain": [
       "<IPython.core.display.HTML object>"
      ]
     },
     "metadata": {},
     "output_type": "display_data"
    },
    {
     "data": {
      "text/html": [
       "Run data is saved locally in <code>/workspace/wandb/run-20230403_152819-a3yc1lyf</code>"
      ],
      "text/plain": [
       "<IPython.core.display.HTML object>"
      ]
     },
     "metadata": {},
     "output_type": "display_data"
    },
    {
     "data": {
      "text/html": [
       "Syncing run <strong><a href='https://wandb.ai/33h002/public/runs/a3yc1lyf' target=\"_blank\">mobilenetv3_small_050</a></strong> to <a href='https://wandb.ai/33h002/public' target=\"_blank\">Weights & Biases</a> (<a href='https://wandb.me/run' target=\"_blank\">docs</a>)<br/>"
      ],
      "text/plain": [
       "<IPython.core.display.HTML object>"
      ]
     },
     "metadata": {},
     "output_type": "display_data"
    },
    {
     "data": {
      "text/html": [
       " View project at <a href='https://wandb.ai/33h002/public' target=\"_blank\">https://wandb.ai/33h002/public</a>"
      ],
      "text/plain": [
       "<IPython.core.display.HTML object>"
      ]
     },
     "metadata": {},
     "output_type": "display_data"
    },
    {
     "data": {
      "text/html": [
       " View run at <a href='https://wandb.ai/33h002/public/runs/a3yc1lyf' target=\"_blank\">https://wandb.ai/33h002/public/runs/a3yc1lyf</a>"
      ],
      "text/plain": [
       "<IPython.core.display.HTML object>"
      ]
     },
     "metadata": {},
     "output_type": "display_data"
    },
    {
     "name": "stdout",
     "output_type": "stream",
     "text": [
      "model running on cuda\n",
      "epoch 1 train | Loss: 0.6264 | Acc: 0.7611\n",
      "epoch 1 valid | Loss: 0.3298 | Acc: 0.8763\n",
      "epoch 2 train | Loss: 0.3606 | Acc: 0.8524\n",
      "epoch 2 valid | Loss: 0.2486 | Acc: 0.8982\n",
      "epoch 3 train | Loss: 0.3168 | Acc: 0.8755\n",
      "epoch 3 valid | Loss: 0.2252 | Acc: 0.9132\n",
      "epoch 4 train | Loss: 0.2770 | Acc: 0.8844\n",
      "epoch 4 valid | Loss: 0.2248 | Acc: 0.9132\n",
      "epoch 5 train | Loss: 0.2487 | Acc: 0.8963\n",
      "epoch 5 valid | Loss: 0.1750 | Acc: 0.9363\n",
      "epoch 6 train | Loss: 0.2200 | Acc: 0.9060\n",
      "epoch 6 valid | Loss: 0.1723 | Acc: 0.9400\n",
      "epoch 7 train | Loss: 0.2181 | Acc: 0.9077\n",
      "epoch 7 valid | Loss: 0.1775 | Acc: 0.9325\n",
      "epoch 8 train | Loss: 0.1861 | Acc: 0.9236\n",
      "epoch 8 valid | Loss: 0.1838 | Acc: 0.9294\n",
      "epoch 9 train | Loss: 0.1882 | Acc: 0.9221\n",
      "epoch 9 valid | Loss: 0.1552 | Acc: 0.9388\n",
      "epoch 10 train | Loss: 0.1685 | Acc: 0.9319\n",
      "epoch 10 valid | Loss: 0.1726 | Acc: 0.9382\n"
     ]
    },
    {
     "data": {
      "text/html": [
       "Waiting for W&B process to finish... <strong style=\"color:green\">(success).</strong>"
      ],
      "text/plain": [
       "<IPython.core.display.HTML object>"
      ]
     },
     "metadata": {},
     "output_type": "display_data"
    },
    {
     "data": {
      "application/vnd.jupyter.widget-view+json": {
       "model_id": "7d8dc0ef36f04415b941a88d9f494572",
       "version_major": 2,
       "version_minor": 0
      },
      "text/plain": [
       "VBox(children=(Label(value='0.002 MB of 0.002 MB uploaded (0.000 MB deduped)\\r'), FloatProgress(value=1.0, max…"
      ]
     },
     "metadata": {},
     "output_type": "display_data"
    },
    {
     "data": {
      "text/html": [
       "<style>\n",
       "    table.wandb td:nth-child(1) { padding: 0 10px; text-align: left ; width: auto;} td:nth-child(2) {text-align: left ; width: 100%}\n",
       "    .wandb-row { display: flex; flex-direction: row; flex-wrap: wrap; justify-content: flex-start; width: 100% }\n",
       "    .wandb-col { display: flex; flex-direction: column; flex-basis: 100%; flex: 1; padding: 10px; }\n",
       "    </style>\n",
       "<div class=\"wandb-row\"><div class=\"wandb-col\"><h3>Run history:</h3><br/><table class=\"wandb\"><tr><td>epoch</td><td>▁▂▃▃▄▅▆▆▇█</td></tr><tr><td>train_acc</td><td>▁▅▆▆▇▇▇███</td></tr><tr><td>train_loss</td><td>█▄▃▃▂▂▂▁▁▁</td></tr><tr><td>valid_acc</td><td>▁▃▅▅██▇▇██</td></tr><tr><td>valid_loss</td><td>█▅▄▄▂▂▂▂▁▂</td></tr></table><br/></div><div class=\"wandb-col\"><h3>Run summary:</h3><br/><table class=\"wandb\"><tr><td>epoch</td><td>10</td></tr><tr><td>train_acc</td><td>0.93192</td></tr><tr><td>train_loss</td><td>0.16853</td></tr><tr><td>valid_acc</td><td>0.93816</td></tr><tr><td>valid_loss</td><td>0.17261</td></tr></table><br/></div></div>"
      ],
      "text/plain": [
       "<IPython.core.display.HTML object>"
      ]
     },
     "metadata": {},
     "output_type": "display_data"
    },
    {
     "data": {
      "text/html": [
       " View run <strong style=\"color:#cdcd00\">mobilenetv3_small_050</strong> at: <a href='https://wandb.ai/33h002/public/runs/a3yc1lyf' target=\"_blank\">https://wandb.ai/33h002/public/runs/a3yc1lyf</a><br/>Synced 6 W&B file(s), 0 media file(s), 0 artifact file(s) and 0 other file(s)"
      ],
      "text/plain": [
       "<IPython.core.display.HTML object>"
      ]
     },
     "metadata": {},
     "output_type": "display_data"
    },
    {
     "data": {
      "text/html": [
       "Find logs at: <code>./wandb/run-20230403_152819-a3yc1lyf/logs</code>"
      ],
      "text/plain": [
       "<IPython.core.display.HTML object>"
      ]
     },
     "metadata": {},
     "output_type": "display_data"
    }
   ],
   "source": [
    "wandb.init(name=RUN_NAME, project=WANDB_PRJ, config=WANDB_CONFIG, reinit=True) # connect\n",
    "\n",
    "device = 'cuda' if torch.cuda.is_available() else 'cpu'\n",
    "print(f'model running on {device}')\n",
    "\n",
    "model = model.to(device)\n",
    "\n",
    "for e in range(EPOCHS):\n",
    "    \n",
    "    gc.collect()\n",
    "    torch.cuda.empty_cache()\n",
    "    running_log = {'epoch': e+1} # logging\n",
    "    \n",
    "    for phase in ['train', 'valid']: \n",
    "        running_loss = 0.0\n",
    "        running_corrects = 0\n",
    "        \n",
    "        model.train() if phase == 'train' else model.eval()\n",
    "\n",
    "        for idx, (features, labels) in enumerate(dataloaders[phase]):\n",
    "            features = features.to(device)\n",
    "            labels = labels.to(device)\n",
    "            \n",
    "            optimizer.zero_grad()\n",
    "        \n",
    "            with torch.set_grad_enabled(phase=='train'):\n",
    "                # forward\n",
    "                with autocast():\n",
    "                    logits = model(features)\n",
    "                    _, preds = torch.max(logits, 1)\n",
    "                    loss = criterion(logits, labels)\n",
    "                    \n",
    "                # backward    \n",
    "                if phase == 'train' and 'cuda' in device:\n",
    "                    scaler.scale(loss).backward()\n",
    "                    scaler.step(optimizer)\n",
    "                    scaler.update()\n",
    "                elif phase == 'train':\n",
    "                    loss.backward()\n",
    "                    optimizer.step()\n",
    "                        \n",
    "                running_loss += loss.item() * features.size(0) # loss\n",
    "                running_corrects += torch.sum(preds == labels.data).item() # acc\n",
    "                        \n",
    "        if phase == 'train' and e >= 10:\n",
    "            scheduler.step()\n",
    "    \n",
    "        epoch_loss = running_loss / dataset_sizes[phase] # loss\n",
    "        epoch_acc = running_corrects / dataset_sizes[phase] # acc\n",
    "        \n",
    "        running_log.update({f'{phase}_loss': epoch_loss, f'{phase}_acc': epoch_acc}) # logging\n",
    "        print(f'epoch {e+1} {phase} | Loss: {epoch_loss:.4f} | Acc: {epoch_acc:.4f}') \n",
    "        \n",
    "    wandb.log(running_log) # logging\n",
    "\n",
    "wandb.finish()"
   ]
  }
 ],
 "metadata": {
  "kernelspec": {
   "display_name": "Python 3 (ipykernel)",
   "language": "python",
   "name": "python3"
  },
  "language_info": {
   "codemirror_mode": {
    "name": "ipython",
    "version": 3
   },
   "file_extension": ".py",
   "mimetype": "text/x-python",
   "name": "python",
   "nbconvert_exporter": "python",
   "pygments_lexer": "ipython3",
   "version": "3.10.8"
  }
 },
 "nbformat": 4,
 "nbformat_minor": 5
}
